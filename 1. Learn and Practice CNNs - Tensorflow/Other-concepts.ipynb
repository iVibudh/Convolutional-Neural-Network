{
 "cells": [
  {
   "cell_type": "markdown",
   "metadata": {},
   "source": [
    "# WELCOME TO **\"Tensorflow for Convolutional Neural Networks\" Series**  😁\n",
    "\n",
    "TensorFlow makes it easy for beginners and experts to create machine learning models for desktop, mobile, web, and cloud. TensorFlow provides a collection of workflows to develop and train models using Python, JavaScript, or Swift, and to easily deploy in the cloud, on-prem, in the browser, or on-device no matter what language you use.\n",
    "\n",
    "In this series of 6 project courses, you will understand how Convolutional Neural Networks work and learn how to create amazing models and build, train, and test Convolutional Neural Networks with Tensorflow! 😎 <br/>"
   ]
  },
  {
   "cell_type": "markdown",
   "metadata": {},
   "source": [
    "<br/>\n",
    "\n",
    "\n",
    "## 👉🏻Learn and Practice CNNs"
   ]
  },
  {
   "cell_type": "markdown",
   "metadata": {},
   "source": [
    "In this project, you will learn fundamentals of convolutional neural networks, and you will build an image classifier using a convolutional neural network with tensorflow... ✨ <br/>\n",
    "\n",
    "Learn and Practice CNNs\n",
    "\n",
    "https://github.com/iVibudh/Convolutional-Neural-Network/blob/main/CNN_series/1.%20Learn%20and%20Practice%20CNNs/Learn%20and%20Practice%20CNNs.ipynb"
   ]
  },
  {
   "cell_type": "markdown",
   "metadata": {},
   "source": [
    "<br/>\n",
    "\n",
    "## 👉🏻Data Augmentation\n"
   ]
  },
  {
   "cell_type": "markdown",
   "metadata": {},
   "source": [
    "In this project, you will learn how to apply data augmentation with images and learn how to create artificially new training data from existing training data!✨<br/>\n",
    " <a href=\"Load, train and prepare data.ipynb\">this project</a>"
   ]
  },
  {
   "cell_type": "markdown",
   "metadata": {},
   "source": [
    "<br/>\n",
    "\n",
    "## 👉🏻Transfer Learning"
   ]
  },
  {
   "cell_type": "markdown",
   "metadata": {},
   "source": [
    "In this project, you will apply transfer learning to fine-tune a pretrained model for your own image classes!✨<br/>\n",
    " <a href=\"Load, train and prepare data.ipynb\">this project</a>"
   ]
  },
  {
   "cell_type": "markdown",
   "metadata": {},
   "source": [
    "<br/>\n",
    "\n",
    "## 👉🏻Multi-Class Classification"
   ]
  },
  {
   "cell_type": "markdown",
   "metadata": {},
   "source": [
    "In this project, you will create and train a mul-class classifier on a real world data to be applied on your own data!✨<br/>\n",
    " <a href=\"Load, train and prepare data.ipynb\">this project</a>"
   ]
  },
  {
   "cell_type": "markdown",
   "metadata": {},
   "source": [
    "<br/>\n",
    "\n",
    "## 👉🏻Image Segmentation"
   ]
  },
  {
   "cell_type": "markdown",
   "metadata": {},
   "source": [
    "In this project, you will learn image segmentation which is a key topic in image processing and computer vision with real world applications!✨<br/>\n",
    " <a href=\"Load, train and prepare data.ipynb\">this project</a>"
   ]
  },
  {
   "cell_type": "markdown",
   "metadata": {},
   "source": [
    "<br/>\n",
    "\n",
    "## 👉🏻Object Recognition"
   ]
  },
  {
   "cell_type": "markdown",
   "metadata": {},
   "source": [
    "In this project, you will build an object recognition alorithm in a real world dataset and use it for your own projects!✨<br/>\n",
    " <a href=\"Load, train and prepare data.ipynb\">this project</a>"
   ]
  },
  {
   "cell_type": "code",
   "execution_count": null,
   "metadata": {},
   "outputs": [],
   "source": []
  }
 ],
 "metadata": {
  "kernelspec": {
   "display_name": "Python 3",
   "language": "python",
   "name": "python3"
  },
  "language_info": {
   "codemirror_mode": {
    "name": "ipython",
    "version": 3
   },
   "file_extension": ".py",
   "mimetype": "text/x-python",
   "name": "python",
   "nbconvert_exporter": "python",
   "pygments_lexer": "ipython3",
   "version": "3.8.5"
  }
 },
 "nbformat": 4,
 "nbformat_minor": 2
}
